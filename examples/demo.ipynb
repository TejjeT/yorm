{
 "metadata": {
  "name": "",
  "signature": "sha256:843b0edc033d9630b37ca635827d82dc27dbf596805ff39df082b65a22d02f3a"
 },
 "nbformat": 3,
 "nbformat_minor": 0,
 "worksheets": [
  {
   "cells": [
    {
     "cell_type": "code",
     "collapsed": false,
     "input": [
      "import logging\n",
      "logger = logging.getLogger()\n",
      "logger.setLevel(logging.DEBUG-1)"
     ],
     "language": "python",
     "metadata": {},
     "outputs": []
    },
    {
     "cell_type": "code",
     "collapsed": false,
     "input": [
      "import yorm"
     ],
     "language": "python",
     "metadata": {},
     "outputs": []
    },
    {
     "cell_type": "code",
     "collapsed": false,
     "input": [
      "class Student:\n",
      "    \n",
      "    def __init__(self, name, number, graduated=False):\n",
      "        self.name = name\n",
      "        self.number = number\n",
      "        self.graduated = graduated\n",
      "        \n",
      "    def __repr__(self):\n",
      "        return \"<student {}>\".format(self.number)\n",
      "        \n",
      "    def graduate(self):\n",
      "        self.graduated = True"
     ],
     "language": "python",
     "metadata": {},
     "outputs": []
    },
    {
     "cell_type": "code",
     "collapsed": false,
     "input": [
      "@yorm.map_attr(name=yorm.standard.String)\n",
      "@yorm.map_attr(graduated=yorm.standard.Boolean)\n",
      "@yorm.store_instances(\"students/{n}.yml\", {'n': 'number'})\n",
      "class MappedStudent(Student):\n",
      "    \n",
      "    pass"
     ],
     "language": "python",
     "metadata": {},
     "outputs": []
    },
    {
     "cell_type": "code",
     "collapsed": false,
     "input": [
      "s1 = MappedStudent(\"John Doe\", 123)"
     ],
     "language": "python",
     "metadata": {},
     "outputs": []
    },
    {
     "cell_type": "code",
     "collapsed": false,
     "input": [
      "s2 = MappedStudent(\"Jane Doe\", 456, graduated=True)"
     ],
     "language": "python",
     "metadata": {},
     "outputs": []
    }
   ],
   "metadata": {}
  }
 ]
}