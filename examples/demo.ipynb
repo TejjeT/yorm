{
 "metadata": {
  "name": "",
  "signature": "sha256:1b2f55d6f1a252fba81bbdcfea7cc16e4add94152000fd29a882cd8238349a30"
 },
 "nbformat": 3,
 "nbformat_minor": 0,
 "worksheets": [
  {
   "cells": [
    {
     "cell_type": "code",
     "collapsed": false,
     "input": [
      "import yorm"
     ],
     "language": "python",
     "metadata": {},
     "outputs": []
    },
    {
     "cell_type": "code",
     "collapsed": false,
     "input": [
      "class Student:\n",
      "    \n",
      "    def __init__(self, name, number, graduated=False):\n",
      "        self.name = name\n",
      "        self.number = number\n",
      "        self.graduated = graduated\n",
      "        \n",
      "    def graduate(self):\n",
      "        self.graduated = True"
     ],
     "language": "python",
     "metadata": {},
     "outputs": []
    },
    {
     "cell_type": "code",
     "collapsed": false,
     "input": [
      "@yorm.map_attr(name=yorm.standard.String)\n",
      "@yorm.map_attr(graduated=yorm.standard.Boolean)\n",
      "@yorm.store_instances(\"students/{n}.yml\", {'n': 'number'})\n",
      "class MappedStudent(Student):\n",
      "    \n",
      "    pass"
     ],
     "language": "python",
     "metadata": {},
     "outputs": []
    },
    {
     "cell_type": "code",
     "collapsed": false,
     "input": [
      "s1 = MappedStudent(\"John Doe\", 123)"
     ],
     "language": "python",
     "metadata": {},
     "outputs": []
    },
    {
     "cell_type": "code",
     "collapsed": false,
     "input": [
      "s2 = MappedStudent(\"Jane Doe\", 456, graduated=True)"
     ],
     "language": "python",
     "metadata": {},
     "outputs": []
    }
   ],
   "metadata": {}
  }
 ]
}