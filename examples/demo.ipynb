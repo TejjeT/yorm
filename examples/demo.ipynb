{
 "metadata": {
  "name": "",
  "signature": "sha256:4b8d1128815da9bb8b389e6cdaf57e43fbb729e4065c35d0a7a31596c952fae3"
 },
 "nbformat": 3,
 "nbformat_minor": 0,
 "worksheets": [
  {
   "cells": [
    {
     "cell_type": "code",
     "collapsed": false,
     "input": [
      "import yorm"
     ],
     "language": "python",
     "metadata": {},
     "outputs": []
    },
    {
     "cell_type": "code",
     "collapsed": false,
     "input": [
      "class Student:\n",
      "    \n",
      "    def __init__(self, name, number, graduated=False):\n",
      "        self.name = name\n",
      "        self.number = number\n",
      "        self.graduated = graduated\n",
      "        \n",
      "    def graduate(self):\n",
      "        self.graduated = True"
     ],
     "language": "python",
     "metadata": {},
     "outputs": []
    },
    {
     "cell_type": "code",
     "collapsed": false,
     "input": [
      "@yorm.map_attr(name=yorm.standard.String)\n",
      "@yorm.map_attr(graduated=yorm.standard.Boolean)\n",
      "@yorm.store_instances(\"students/{n}.yml\", {'n': 'number'})\n",
      "class MappedStudent(Student):\n",
      "    \n",
      "    pass"
     ],
     "language": "python",
     "metadata": {},
     "outputs": []
    },
    {
     "cell_type": "code",
     "collapsed": false,
     "input": [
      "s1 = MappedStudent(\"John Doe\", 123)"
     ],
     "language": "python",
     "metadata": {},
     "outputs": []
    },
    {
     "cell_type": "code",
     "collapsed": false,
     "input": [
      "s2 = MappedStudent(\"Jane Doe\", 456, graduated=True)"
     ],
     "language": "python",
     "metadata": {},
     "outputs": []
    },
    {
     "cell_type": "code",
     "collapsed": false,
     "input": [
      "s1.name"
     ],
     "language": "python",
     "metadata": {},
     "outputs": []
    },
    {
     "cell_type": "code",
     "collapsed": false,
     "input": [
      "s1.name = \"New Name\"\n",
      "s1.name"
     ],
     "language": "python",
     "metadata": {},
     "outputs": []
    }
   ],
   "metadata": {}
  }
 ]
}